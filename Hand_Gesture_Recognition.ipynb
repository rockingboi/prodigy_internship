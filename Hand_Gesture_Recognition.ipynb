{
  "metadata": {
    "kaggle": {
      "accelerator": "none",
      "dataSources": [
        {
          "sourceId": 61155,
          "sourceType": "datasetVersion",
          "datasetId": 39466
        }
      ],
      "dockerImageVersionId": 30664,
      "isInternetEnabled": true,
      "language": "python",
      "sourceType": "notebook",
      "isGpuEnabled": false
    },
    "kernelspec": {
      "display_name": "Python 3 (ipykernel)",
      "language": "python",
      "name": "python3"
    },
    "language_info": {
      "codemirror_mode": {
        "name": "ipython",
        "version": 3
      },
      "file_extension": ".py",
      "mimetype": "text/x-python",
      "name": "python",
      "nbconvert_exporter": "python",
      "pygments_lexer": "ipython3",
      "version": "3.10.9"
    },
    "colab": {
      "name": "Hand Gesture Recognition 🖐🏻Using NN(DL)",
      "provenance": [],
      "include_colab_link": true
    }
  },
  "nbformat_minor": 0,
  "nbformat": 4,
  "cells": [
    {
      "cell_type": "markdown",
      "metadata": {
        "id": "view-in-github",
        "colab_type": "text"
      },
      "source": [
        "<a href=\"https://colab.research.google.com/github/rockingboi/prodigy_internship/blob/main/Hand_Gesture_Recognition.ipynb\" target=\"_parent\"><img src=\"https://colab.research.google.com/assets/colab-badge.svg\" alt=\"Open In Colab\"/></a>"
      ]
    },
    {
      "source": [
        "\n",
        "# IMPORTANT: RUN THIS CELL IN ORDER TO IMPORT YOUR KAGGLE DATA SOURCES\n",
        "# TO THE CORRECT LOCATION (/kaggle/input) IN YOUR NOTEBOOK,\n",
        "# THEN FEEL FREE TO DELETE THIS CELL.\n",
        "# NOTE: THIS NOTEBOOK ENVIRONMENT DIFFERS FROM KAGGLE'S PYTHON\n",
        "# ENVIRONMENT SO THERE MAY BE MISSING LIBRARIES USED BY YOUR\n",
        "# NOTEBOOK.\n",
        "\n",
        "import os\n",
        "import sys\n",
        "from tempfile import NamedTemporaryFile\n",
        "from urllib.request import urlopen\n",
        "from urllib.parse import unquote, urlparse\n",
        "from urllib.error import HTTPError\n",
        "from zipfile import ZipFile\n",
        "import tarfile\n",
        "import shutil\n",
        "\n",
        "CHUNK_SIZE = 40960\n",
        "DATA_SOURCE_MAPPING = 'leapgestrecog:https%3A%2F%2Fstorage.googleapis.com%2Fkaggle-data-sets%2F39466%2F61155%2Fbundle%2Farchive.zip%3FX-Goog-Algorithm%3DGOOG4-RSA-SHA256%26X-Goog-Credential%3Dgcp-kaggle-com%2540kaggle-161607.iam.gserviceaccount.com%252F20240320%252Fauto%252Fstorage%252Fgoog4_request%26X-Goog-Date%3D20240320T163921Z%26X-Goog-Expires%3D259200%26X-Goog-SignedHeaders%3Dhost%26X-Goog-Signature%3D055737ea2c165642e8d0e88b81fec7fe7df97ded6906ce3ed3475d82453ad36d07c5f5bc78f923991ac0634ba0c0e2cbdbad5521c51090bc30410bddc1cae65c515a4a3883e756fd379425b103dcc72ef871c50f0c81ec66875e4f4fc7364d2b37dcf4dbfd6928cae0faab82de9cc5cd7aabad7d44232ccff772fb3a03aaf441b250a4959d5d6a2fc28a38735a5d42a7aa4991954ba805bde187f84fe726f10916ae9a54cd395b67f7602046c4fdcb4f9c45d7fedbf0ff3f3d128021c8a73b713cd5fe755017dda2e09a6efc151ed17bf358ba0fa31064b0637a9ace13ff79b7e98c0d766a313841e2db356168ad323a7bf500bb659c7893edac0521751f996c'\n",
        "\n",
        "KAGGLE_INPUT_PATH='/kaggle/input'\n",
        "KAGGLE_WORKING_PATH='/kaggle/working'\n",
        "KAGGLE_SYMLINK='kaggle'\n",
        "\n",
        "!umount /kaggle/input/ 2> /dev/null\n",
        "shutil.rmtree('/kaggle/input', ignore_errors=True)\n",
        "os.makedirs(KAGGLE_INPUT_PATH, 0o777, exist_ok=True)\n",
        "os.makedirs(KAGGLE_WORKING_PATH, 0o777, exist_ok=True)\n",
        "\n",
        "try:\n",
        "  os.symlink(KAGGLE_INPUT_PATH, os.path.join(\"..\", 'input'), target_is_directory=True)\n",
        "except FileExistsError:\n",
        "  pass\n",
        "try:\n",
        "  os.symlink(KAGGLE_WORKING_PATH, os.path.join(\"..\", 'working'), target_is_directory=True)\n",
        "except FileExistsError:\n",
        "  pass\n",
        "\n",
        "for data_source_mapping in DATA_SOURCE_MAPPING.split(','):\n",
        "    directory, download_url_encoded = data_source_mapping.split(':')\n",
        "    download_url = unquote(download_url_encoded)\n",
        "    filename = urlparse(download_url).path\n",
        "    destination_path = os.path.join(KAGGLE_INPUT_PATH, directory)\n",
        "    try:\n",
        "        with urlopen(download_url) as fileres, NamedTemporaryFile() as tfile:\n",
        "            total_length = fileres.headers['content-length']\n",
        "            print(f'Downloading {directory}, {total_length} bytes compressed')\n",
        "            dl = 0\n",
        "            data = fileres.read(CHUNK_SIZE)\n",
        "            while len(data) > 0:\n",
        "                dl += len(data)\n",
        "                tfile.write(data)\n",
        "                done = int(50 * dl / int(total_length))\n",
        "                sys.stdout.write(f\"\\r[{'=' * done}{' ' * (50-done)}] {dl} bytes downloaded\")\n",
        "                sys.stdout.flush()\n",
        "                data = fileres.read(CHUNK_SIZE)\n",
        "            if filename.endswith('.zip'):\n",
        "              with ZipFile(tfile) as zfile:\n",
        "                zfile.extractall(destination_path)\n",
        "            else:\n",
        "              with tarfile.open(tfile.name) as tarfile:\n",
        "                tarfile.extractall(destination_path)\n",
        "            print(f'\\nDownloaded and uncompressed: {directory}')\n",
        "    except HTTPError as e:\n",
        "        print(f'Failed to load (likely expired) {download_url} to path {destination_path}')\n",
        "        continue\n",
        "    except OSError as e:\n",
        "        print(f'Failed to load {download_url} to path {destination_path}')\n",
        "        continue\n",
        "\n",
        "print('Data source import complete.')\n"
      ],
      "metadata": {
        "id": "mRBfbyBKu1mQ"
      },
      "cell_type": "code",
      "outputs": [],
      "execution_count": null
    },
    {
      "cell_type": "markdown",
      "source": [
        "### 📍📍 About the Data"
      ],
      "metadata": {
        "id": "r6Jpdab9u1mW"
      }
    },
    {
      "cell_type": "markdown",
      "source": [
        "# 📌Importing Libaraies"
      ],
      "metadata": {
        "id": "HWaYfBK7u1ma"
      }
    },
    {
      "cell_type": "code",
      "source": [
        "import numpy as np\n",
        "import pandas as pd\n",
        "import matplotlib.pyplot as plt\n",
        "import os\n",
        "import cv2\n",
        "from tqdm import tqdm\n",
        "import random\n",
        "from sklearn.model_selection import train_test_split\n",
        "import tensorflow as tf\n",
        "from tensorflow import keras\n",
        "from tensorflow.math import confusion_matrix\n",
        "from sklearn.metrics import classification_report\n",
        "import seaborn as sns\n",
        "tf.random.set_seed(3)\n",
        "import glob\n",
        "import skimage as oi\n",
        "from tensorflow.keras.models import Sequential\n",
        "from tensorflow.keras.layers import Flatten, Dense, LeakyReLU\n"
      ],
      "metadata": {
        "execution": {
          "iopub.execute_input": "2024-03-16T19:59:02.477514Z",
          "iopub.status.busy": "2024-03-16T19:59:02.476941Z",
          "iopub.status.idle": "2024-03-16T19:59:18.495721Z",
          "shell.execute_reply": "2024-03-16T19:59:18.494677Z",
          "shell.execute_reply.started": "2024-03-16T19:59:02.477468Z"
        },
        "id": "XUTwgAYIu1mb"
      },
      "execution_count": null,
      "outputs": []
    },
    {
      "cell_type": "markdown",
      "source": [
        "# 📌 Loading The Data"
      ],
      "metadata": {
        "id": "fCOny349u1mb"
      }
    },
    {
      "cell_type": "code",
      "source": [
        "folders_names = []\n",
        "##'/kaggle/input/leapgestrecog/leapGestRecog/0'\n",
        "for i in range(10):\n",
        "    folder = r'C:\\Users\\user\\Desktop\\archive (3)\\leapGestRecog\\0{}'.format(i)\n",
        "    folders_names.append(folder)\n",
        "\n",
        "files_names = ['01_palm', '02_l', '03_fist', '04_fist_moved', '05_thumb']\n"
      ],
      "metadata": {
        "execution": {
          "iopub.execute_input": "2024-03-16T20:01:44.613887Z",
          "iopub.status.busy": "2024-03-16T20:01:44.612679Z",
          "iopub.status.idle": "2024-03-16T20:01:44.619947Z",
          "shell.execute_reply": "2024-03-16T20:01:44.618656Z",
          "shell.execute_reply.started": "2024-03-16T20:01:44.613811Z"
        },
        "id": "cYGVestPu1mc"
      },
      "execution_count": null,
      "outputs": []
    },
    {
      "cell_type": "code",
      "source": [
        "folders_names"
      ],
      "metadata": {
        "execution": {
          "iopub.execute_input": "2024-03-16T20:01:57.115682Z",
          "iopub.status.busy": "2024-03-16T20:01:57.115312Z",
          "iopub.status.idle": "2024-03-16T20:01:57.124084Z",
          "shell.execute_reply": "2024-03-16T20:01:57.122874Z",
          "shell.execute_reply.started": "2024-03-16T20:01:57.115653Z"
        },
        "id": "ge_1SV08u1md"
      },
      "execution_count": null,
      "outputs": []
    },
    {
      "cell_type": "markdown",
      "source": [
        "### 📍📍Display 3 images for each file from eav=ch class"
      ],
      "metadata": {
        "id": "HEKL__s8u1md"
      }
    },
    {
      "cell_type": "code",
      "source": [
        "for folder in folders_names:\n",
        "        Class_num=folder[-1]\n",
        "        for file in files_names:\n",
        "            path = os.path.join(folder, file)\n",
        "            x=0\n",
        "            fig, axes = plt.subplots(1,3, figsize=(25, 4))\n",
        "            for img in os.listdir(path):\n",
        "\n",
        "\n",
        "                img_array = cv2.imread(os.path.join(path, img), cv2.IMREAD_GRAYSCALE)\n",
        "                axes[x].imshow(img_array, cmap='gray')\n",
        "                x += 1\n",
        "                if x == 3:\n",
        "                    break\n",
        "\n",
        "            plt.suptitle(f\"Class{Class_num} , {file}\", fontsize=26)\n",
        "            plt.show()"
      ],
      "metadata": {
        "execution": {
          "iopub.execute_input": "2024-03-16T20:01:59.372202Z",
          "iopub.status.busy": "2024-03-16T20:01:59.371812Z",
          "iopub.status.idle": "2024-03-16T20:03:18.250271Z",
          "shell.execute_reply": "2024-03-16T20:03:18.249133Z",
          "shell.execute_reply.started": "2024-03-16T20:01:59.372172Z"
        },
        "scrolled": true,
        "id": "Ro4psK_xu1me"
      },
      "execution_count": null,
      "outputs": []
    },
    {
      "cell_type": "markdown",
      "source": [
        "### 📍📍loading"
      ],
      "metadata": {
        "id": "EJbQgx4mu1me"
      }
    },
    {
      "cell_type": "code",
      "source": [
        "training_data = []\n",
        "\n",
        "def create_training_data():\n",
        "    for folder in folders_names:\n",
        "        Class_num=folder[-1]\n",
        "        print('Class ' ,Class_num)\n",
        "        for file in files_names:\n",
        "            path = os.path.join(folder, file)\n",
        "\n",
        "            print('Class ' ,Class_num,file)\n",
        "#             c=0\n",
        "\n",
        "            for img in tqdm(os.listdir(path)):\n",
        "#                 if(c==100):\n",
        "#                     break\n",
        "#                 c+=1\n",
        "                img_array = cv2.imread(os.path.join(path, img), cv2.IMREAD_GRAYSCALE)\n",
        "\n",
        "\n",
        "                training_data.append([img_array,int(Class_num)])\n",
        "\n",
        "\n",
        "create_training_data()"
      ],
      "metadata": {
        "execution": {
          "iopub.execute_input": "2024-03-16T20:03:58.070471Z",
          "iopub.status.busy": "2024-03-16T20:03:58.070084Z",
          "iopub.status.idle": "2024-03-16T20:06:41.959589Z",
          "shell.execute_reply": "2024-03-16T20:06:41.958247Z",
          "shell.execute_reply.started": "2024-03-16T20:03:58.070435Z"
        },
        "id": "lTyZ2UI8u1mf"
      },
      "execution_count": null,
      "outputs": []
    },
    {
      "cell_type": "markdown",
      "source": [
        "# 📌Sizes of images"
      ],
      "metadata": {
        "id": "4_SF5-kBu1mf"
      }
    },
    {
      "cell_type": "markdown",
      "source": [
        "### 📍📍 printing the shape of the first image from each class"
      ],
      "metadata": {
        "id": "sVy11XYeu1mg"
      }
    },
    {
      "cell_type": "code",
      "source": [
        "for folder in folders_names:\n",
        "    class_num = folder[-1]\n",
        "    print('Class', class_num)\n",
        "    for file in files_names:\n",
        "        path = os.path.join(folder, file)\n",
        "\n",
        "        for img in os.listdir(path):\n",
        "            img_array = cv2.imread(os.path.join(path, img), cv2.IMREAD_GRAYSCALE)\n",
        "            print(\"Image shape:\", img_array.shape,\"\\n\")\n",
        "            break  # To print only the first image shape for each file\n",
        "        break  # To print only the first file shape for each folder\n"
      ],
      "metadata": {
        "execution": {
          "iopub.execute_input": "2024-03-16T20:06:48.945078Z",
          "iopub.status.busy": "2024-03-16T20:06:48.944266Z",
          "iopub.status.idle": "2024-03-16T20:06:48.990684Z",
          "shell.execute_reply": "2024-03-16T20:06:48.989886Z",
          "shell.execute_reply.started": "2024-03-16T20:06:48.94504Z"
        },
        "id": "EuHoR_Gqu1mg"
      },
      "execution_count": null,
      "outputs": []
    },
    {
      "cell_type": "markdown",
      "source": [
        "### 📍📍 Checking if all images have the same size or not"
      ],
      "metadata": {
        "id": "cAYHEsc4u1mg"
      }
    },
    {
      "cell_type": "code",
      "source": [
        "def check_image_sizes():\n",
        "    first_img_shape = None\n",
        "    for folder in folders_names:\n",
        "        for file in files_names:\n",
        "            path = os.path.join(folder, file)\n",
        "            for img in os.listdir(path):\n",
        "                img_array = cv2.imread(os.path.join(path, img), cv2.IMREAD_GRAYSCALE)\n",
        "                if first_img_shape is None:\n",
        "                    first_img_shape = img_array.shape\n",
        "                elif img_array.shape != first_img_shape:\n",
        "                    print(\"Image sizes are not consistent.\")\n",
        "                    return False\n",
        "    print(\"All images have the same size:\", first_img_shape)\n",
        "\n",
        "check_image_sizes()\n"
      ],
      "metadata": {
        "execution": {
          "iopub.execute_input": "2024-03-16T20:06:52.837311Z",
          "iopub.status.busy": "2024-03-16T20:06:52.836181Z",
          "iopub.status.idle": "2024-03-16T20:07:43.939079Z",
          "shell.execute_reply": "2024-03-16T20:07:43.937912Z",
          "shell.execute_reply.started": "2024-03-16T20:06:52.837268Z"
        },
        "id": "Jk5e56Ntu1mg"
      },
      "execution_count": null,
      "outputs": []
    },
    {
      "cell_type": "markdown",
      "source": [
        "# 📌Shuffling"
      ],
      "metadata": {
        "id": "OHUvzkewu1mg"
      }
    },
    {
      "cell_type": "markdown",
      "source": [
        "### 📍📍getting the classes of the first 5 images"
      ],
      "metadata": {
        "id": "L59yaqqhu1mh"
      }
    },
    {
      "cell_type": "code",
      "source": [
        "for i in range(5):\n",
        "    print(\"Class number for image\", i+1, \":\", training_data[i][1])"
      ],
      "metadata": {
        "execution": {
          "iopub.execute_input": "2024-03-16T20:08:30.522227Z",
          "iopub.status.busy": "2024-03-16T20:08:30.521345Z",
          "iopub.status.idle": "2024-03-16T20:08:30.528719Z",
          "shell.execute_reply": "2024-03-16T20:08:30.527652Z",
          "shell.execute_reply.started": "2024-03-16T20:08:30.522193Z"
        },
        "id": "jssSEUBbu1mh"
      },
      "execution_count": null,
      "outputs": []
    },
    {
      "cell_type": "markdown",
      "source": [
        "### 📍📍getting the classes of the lastt 5 images"
      ],
      "metadata": {
        "id": "u7edg_Opu1mh"
      }
    },
    {
      "cell_type": "code",
      "source": [
        "for i in range(-1, -6, -1):\n",
        "    print(\"Class number for image\", len(training_data) + i + 1, \":\", training_data[i][1])"
      ],
      "metadata": {
        "execution": {
          "iopub.execute_input": "2024-03-16T20:08:36.546268Z",
          "iopub.status.busy": "2024-03-16T20:08:36.545884Z",
          "iopub.status.idle": "2024-03-16T20:08:36.55347Z",
          "shell.execute_reply": "2024-03-16T20:08:36.552264Z",
          "shell.execute_reply.started": "2024-03-16T20:08:36.54624Z"
        },
        "id": "O9LOWhYAu1mh"
      },
      "execution_count": null,
      "outputs": []
    },
    {
      "cell_type": "markdown",
      "source": [
        "### 📍📍Suffling and display the first 10 classes after suffling"
      ],
      "metadata": {
        "id": "pX7Gk5-yu1mh"
      }
    },
    {
      "cell_type": "code",
      "source": [
        "random.shuffle(training_data)\n",
        "\n",
        "for i in range(15):\n",
        "    print(f\"Sample {i+1}:\")\n",
        "    print(\"Class number:\", training_data[i][1],\"\\n\")"
      ],
      "metadata": {
        "execution": {
          "iopub.execute_input": "2024-03-16T20:08:52.942379Z",
          "iopub.status.busy": "2024-03-16T20:08:52.941948Z",
          "iopub.status.idle": "2024-03-16T20:08:52.970444Z",
          "shell.execute_reply": "2024-03-16T20:08:52.969435Z",
          "shell.execute_reply.started": "2024-03-16T20:08:52.94234Z"
        },
        "scrolled": true,
        "id": "cvzZ6yEVu1mi"
      },
      "execution_count": null,
      "outputs": []
    },
    {
      "cell_type": "markdown",
      "source": [
        "# 📌Preprocessing"
      ],
      "metadata": {
        "id": "DhWI97UOu1mi"
      }
    },
    {
      "cell_type": "markdown",
      "source": [
        "### 📍📍Feature Selection"
      ],
      "metadata": {
        "id": "6AEp14unu1mi"
      }
    },
    {
      "cell_type": "code",
      "source": [
        "X=[]\n",
        "y=[]\n",
        "\n",
        "for feature,label in training_data:\n",
        "    X.append(feature)\n",
        "    y.append(label)\n"
      ],
      "metadata": {
        "execution": {
          "iopub.execute_input": "2024-03-16T20:08:58.109238Z",
          "iopub.status.busy": "2024-03-16T20:08:58.108799Z",
          "iopub.status.idle": "2024-03-16T20:08:58.128102Z",
          "shell.execute_reply": "2024-03-16T20:08:58.127156Z",
          "shell.execute_reply.started": "2024-03-16T20:08:58.109206Z"
        },
        "id": "tCKSp7vKu1mj"
      },
      "execution_count": null,
      "outputs": []
    },
    {
      "cell_type": "code",
      "source": [
        "print(type(X))\n",
        "print(type(y))\n"
      ],
      "metadata": {
        "id": "pcqMh6gbu1mj"
      },
      "execution_count": null,
      "outputs": []
    },
    {
      "cell_type": "markdown",
      "source": [
        "### 📍📍Convert X ,y from list to numpy array"
      ],
      "metadata": {
        "id": "_hbI6gmhu1mk"
      }
    },
    {
      "cell_type": "code",
      "source": [
        "X=np.array(X)\n",
        "y=np.array(y)\n",
        "print(X.shape)\n",
        "print(y.shape)"
      ],
      "metadata": {
        "execution": {
          "iopub.execute_input": "2024-03-16T20:10:29.759133Z",
          "iopub.status.busy": "2024-03-16T20:10:29.758217Z",
          "iopub.status.idle": "2024-03-16T20:10:31.18737Z",
          "shell.execute_reply": "2024-03-16T20:10:31.186567Z",
          "shell.execute_reply.started": "2024-03-16T20:10:29.759096Z"
        },
        "id": "_sMLT4tUu1mk"
      },
      "execution_count": null,
      "outputs": []
    },
    {
      "cell_type": "markdown",
      "source": [
        "### 📍📍Spliting the Data"
      ],
      "metadata": {
        "id": "dxNzXyQau1mk"
      }
    },
    {
      "cell_type": "code",
      "source": [
        "X_train, X_test, y_train, y_test = train_test_split(X, y, test_size=0.2, random_state=42)\n",
        "\n",
        "\n",
        "print(X_train.shape)\n",
        "print(y_train.shape)\n",
        "print(X_test.shape)\n",
        "print(y_test.shape)"
      ],
      "metadata": {
        "execution": {
          "iopub.execute_input": "2024-03-16T20:10:38.22935Z",
          "iopub.status.busy": "2024-03-16T20:10:38.228946Z",
          "iopub.status.idle": "2024-03-16T20:10:39.602764Z",
          "shell.execute_reply": "2024-03-16T20:10:39.601673Z",
          "shell.execute_reply.started": "2024-03-16T20:10:38.229318Z"
        },
        "id": "Co37lNv2u1mk"
      },
      "execution_count": null,
      "outputs": []
    },
    {
      "cell_type": "markdown",
      "source": [
        "### 📍📍Getting classes names"
      ],
      "metadata": {
        "id": "KRDBeKc5u1ml"
      }
    },
    {
      "cell_type": "code",
      "source": [
        "print(np.unique(y_train))\n",
        "\n",
        "print(np.unique(y_test))"
      ],
      "metadata": {
        "execution": {
          "iopub.execute_input": "2024-03-16T20:10:46.938275Z",
          "iopub.status.busy": "2024-03-16T20:10:46.937291Z",
          "iopub.status.idle": "2024-03-16T20:10:46.944633Z",
          "shell.execute_reply": "2024-03-16T20:10:46.943795Z",
          "shell.execute_reply.started": "2024-03-16T20:10:46.938242Z"
        },
        "id": "baQCVnIEu1ml"
      },
      "execution_count": null,
      "outputs": []
    },
    {
      "cell_type": "markdown",
      "source": [
        "### 📍📍Scalling the Data"
      ],
      "metadata": {
        "id": "eYsb7YfXu1ml"
      }
    },
    {
      "cell_type": "code",
      "source": [
        "X_train = X_train/255\n",
        "X_test = X_test/255"
      ],
      "metadata": {
        "execution": {
          "iopub.execute_input": "2024-03-16T20:10:50.872678Z",
          "iopub.status.busy": "2024-03-16T20:10:50.871997Z",
          "iopub.status.idle": "2024-03-16T20:11:16.254573Z",
          "shell.execute_reply": "2024-03-16T20:11:16.250025Z",
          "shell.execute_reply.started": "2024-03-16T20:10:50.872636Z"
        },
        "id": "wPmqzNUmu1ml"
      },
      "execution_count": null,
      "outputs": []
    },
    {
      "cell_type": "markdown",
      "source": [
        "### 📍📍print first image after scalling"
      ],
      "metadata": {
        "id": "AVdCAkJfu1ml"
      }
    },
    {
      "cell_type": "code",
      "source": [
        "print(X_train[0])"
      ],
      "metadata": {
        "execution": {
          "iopub.execute_input": "2024-03-16T20:11:31.313798Z",
          "iopub.status.busy": "2024-03-16T20:11:31.313355Z",
          "iopub.status.idle": "2024-03-16T20:11:31.33166Z",
          "shell.execute_reply": "2024-03-16T20:11:31.33058Z",
          "shell.execute_reply.started": "2024-03-16T20:11:31.313759Z"
        },
        "id": "RWURApmsu1ml"
      },
      "execution_count": null,
      "outputs": []
    },
    {
      "cell_type": "markdown",
      "source": [
        "# 📌Modeling Time"
      ],
      "metadata": {
        "id": "CH21HaBMu1mm"
      }
    },
    {
      "cell_type": "markdown",
      "source": [
        "### 📍📍Building Multi Neural Network"
      ],
      "metadata": {
        "id": "J5Y5OH6su1mm"
      }
    },
    {
      "cell_type": "code",
      "source": [
        "\n",
        "model = Sequential([\n",
        "    Flatten(input_shape=(240, 640)),\n",
        "#     Dense(1024),\n",
        "#     LeakyReLU(alpha=0.1),\n",
        "#     Dense(512),\n",
        "#     LeakyReLU(alpha=0.1),\n",
        "#     Dense(256),\n",
        "#     LeakyReLU(alpha=0.1),\n",
        "#     Dense(128),\n",
        "#     LeakyReLU(alpha=0.1),\n",
        "    Dense(64),\n",
        "    LeakyReLU(alpha=0.1),\n",
        "    Dense(32),\n",
        "    LeakyReLU(alpha=0.1),\n",
        "    Dense(16),\n",
        "    LeakyReLU(alpha=0.1),\n",
        "    Dense(10, activation='softmax')\n",
        "])"
      ],
      "metadata": {
        "execution": {
          "iopub.execute_input": "2024-03-16T20:11:51.491611Z",
          "iopub.status.busy": "2024-03-16T20:11:51.491164Z",
          "iopub.status.idle": "2024-03-16T20:11:52.280328Z",
          "shell.execute_reply": "2024-03-16T20:11:52.279084Z",
          "shell.execute_reply.started": "2024-03-16T20:11:51.491578Z"
        },
        "id": "X6VxD0VCu1mu"
      },
      "execution_count": null,
      "outputs": []
    },
    {
      "cell_type": "markdown",
      "source": [
        "### 📍📍Compiling the model"
      ],
      "metadata": {
        "id": "aS5yO9APu1mu"
      }
    },
    {
      "cell_type": "code",
      "source": [
        "model.compile(optimizer='adam', loss='sparse_categorical_crossentropy', metrics=['accuracy'])"
      ],
      "metadata": {
        "execution": {
          "iopub.execute_input": "2024-03-16T20:13:06.628306Z",
          "iopub.status.busy": "2024-03-16T20:13:06.627854Z",
          "iopub.status.idle": "2024-03-16T20:13:06.669793Z",
          "shell.execute_reply": "2024-03-16T20:13:06.668644Z",
          "shell.execute_reply.started": "2024-03-16T20:13:06.628273Z"
        },
        "id": "kalrR49Yu1mu"
      },
      "execution_count": null,
      "outputs": []
    },
    {
      "cell_type": "markdown",
      "source": [
        "### 📍📍Training the Neural Network"
      ],
      "metadata": {
        "id": "SIPzn6MAu1mv"
      }
    },
    {
      "cell_type": "code",
      "source": [
        "history = model.fit(X_train, y_train, epochs=3, validation_split=0.1, batch_size=32, verbose=2)\n"
      ],
      "metadata": {
        "execution": {
          "iopub.execute_input": "2024-03-16T20:15:34.410799Z",
          "iopub.status.busy": "2024-03-16T20:15:34.410378Z",
          "iopub.status.idle": "2024-03-16T20:15:34.818568Z",
          "shell.execute_reply": "2024-03-16T20:15:34.816819Z",
          "shell.execute_reply.started": "2024-03-16T20:15:34.410764Z"
        },
        "id": "_yGe78Q7u1mv"
      },
      "execution_count": null,
      "outputs": []
    },
    {
      "cell_type": "markdown",
      "source": [
        "### 📍📍 Model Summary"
      ],
      "metadata": {
        "id": "ZcLd7c42u1mv"
      }
    },
    {
      "cell_type": "code",
      "source": [
        "model.summary()"
      ],
      "metadata": {
        "id": "Ux3A5dV8u1mv"
      },
      "execution_count": null,
      "outputs": []
    },
    {
      "cell_type": "markdown",
      "source": [
        "# 📌Evaluation time"
      ],
      "metadata": {
        "id": "KuRZqrIou1mv"
      }
    },
    {
      "cell_type": "markdown",
      "source": [
        "### 📍📍Training Loss"
      ],
      "metadata": {
        "id": "_Mi7RhyKu1mv"
      }
    },
    {
      "cell_type": "code",
      "source": [
        "loss, accuracy = model.evaluate(X_train, y_train)\n",
        "print(f\"Training Loss: {loss:.4f}\")\n",
        "print(f\"Training Accuracy: {accuracy*100:.2f}%\")\n"
      ],
      "metadata": {
        "id": "pmqhSgTUu1mv"
      },
      "execution_count": null,
      "outputs": []
    },
    {
      "cell_type": "markdown",
      "source": [
        "### 📍📍Testing Loss"
      ],
      "metadata": {
        "id": "NSu3gExiu1mw"
      }
    },
    {
      "cell_type": "code",
      "source": [
        "loss, accuracy = model.evaluate(X_test, y_test)\n",
        "print(f\"Testing Loss: {loss:.4f}\")\n",
        "print(f\"Testing Loss : {accuracy*100:.2f} %\")"
      ],
      "metadata": {
        "id": "hYMbH7yDu1mw"
      },
      "execution_count": null,
      "outputs": []
    },
    {
      "cell_type": "code",
      "source": [
        "plt.plot(history.history['loss'])\n",
        "plt.plot(history.history['val_loss'])\n",
        "plt.title('Model Loss')\n",
        "plt.xlabel('epoch')\n",
        "plt.ylabel('loss')\n",
        "plt.legend(['train', 'test'], loc='upper left')\n",
        "plt.show()"
      ],
      "metadata": {
        "id": "aa2eVmHQu1mw"
      },
      "execution_count": null,
      "outputs": []
    },
    {
      "cell_type": "code",
      "source": [
        "plt.plot(history.history['accuracy'])\n",
        "plt.plot(history.history['val_accuracy'])\n",
        "plt.title('Model Accuracy')\n",
        "plt.xlabel('epoch')\n",
        "plt.ylabel('accuracy')\n",
        "plt.legend(['train', 'test'], loc='upper left')\n",
        "plt.show()"
      ],
      "metadata": {
        "id": "2R77MRFYu1mw"
      },
      "execution_count": null,
      "outputs": []
    },
    {
      "cell_type": "markdown",
      "source": [
        "### 📍📍Prediction"
      ],
      "metadata": {
        "id": "TddscwY4u1mw"
      }
    },
    {
      "cell_type": "code",
      "source": [
        "y_pred=model.predict(X_test)\n",
        "print(y_pred[0])"
      ],
      "metadata": {
        "id": "nzyNK5wBu1mw"
      },
      "execution_count": null,
      "outputs": []
    },
    {
      "cell_type": "code",
      "source": [
        "y_pred = [np.argmax(i) for i in y_pred]\n",
        "print(y_pred[1])"
      ],
      "metadata": {
        "id": "xNgRTHrUu1mx"
      },
      "execution_count": null,
      "outputs": []
    },
    {
      "cell_type": "markdown",
      "source": [
        "### 📍📍y_test Vs y_pred"
      ],
      "metadata": {
        "id": "yiCe6EyIu1mx"
      }
    },
    {
      "cell_type": "code",
      "source": [
        "comparison_df = pd.DataFrame({ 'Actual': y_test,'Predicted': y_pred})\n",
        "\n",
        "print(comparison_df[:20])"
      ],
      "metadata": {
        "id": "fyEI0ptOu1mx"
      },
      "execution_count": null,
      "outputs": []
    },
    {
      "cell_type": "markdown",
      "source": [
        "### 📍📍 Confusion Matrix"
      ],
      "metadata": {
        "id": "RTx_1k6Bu1mx"
      }
    },
    {
      "cell_type": "code",
      "source": [
        "conf_mat = confusion_matrix(y_test, y_pred)\n",
        "print(conf_mat)"
      ],
      "metadata": {
        "id": "YW2oLET8u1mx"
      },
      "execution_count": null,
      "outputs": []
    },
    {
      "cell_type": "code",
      "source": [
        "plt.figure(figsize=(15,7))\n",
        "sns.heatmap(conf_mat, annot=True, fmt='d', cmap='bone')\n",
        "plt.ylabel('True Labels')\n",
        "plt.xlabel('Predicted Labels')"
      ],
      "metadata": {
        "id": "VAJs2n8Zu1my"
      },
      "execution_count": null,
      "outputs": []
    },
    {
      "cell_type": "markdown",
      "source": [
        "### 📍📍 Classification Report"
      ],
      "metadata": {
        "id": "2JrQoY69u1my"
      }
    },
    {
      "cell_type": "code",
      "source": [
        "from sklearn.metrics import classification_report\n",
        "\n",
        "print(classification_report(y_test,y_pred))"
      ],
      "metadata": {
        "id": "SHJvp5C9u1my"
      },
      "execution_count": null,
      "outputs": []
    }
  ]
}